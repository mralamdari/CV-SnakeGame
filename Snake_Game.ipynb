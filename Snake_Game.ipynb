{
 "cells": [
  {
   "cell_type": "code",
   "execution_count": 3,
   "id": "0d060549",
   "metadata": {},
   "outputs": [],
   "source": [
    "import cv2\n",
    "import math\n",
    "import cvzone\n",
    "import numpy as np\n",
    "from cvzone.HandTrackingModule import HandDetector"
   ]
  },
  {
   "cell_type": "code",
   "execution_count": 6,
   "id": "43e445e8",
   "metadata": {},
   "outputs": [],
   "source": [
    "cap = cv2.VideoCapture(0)\n",
    "allowedLenght = 150\n",
    "allowedLenght_rate= 50\n",
    "cap.set(3, 1280)\n",
    "cap.set(4, 720)\n",
    "error_rate = 1"
   ]
  },
  {
   "cell_type": "code",
   "execution_count": 7,
   "id": "4e65cd55",
   "metadata": {},
   "outputs": [],
   "source": [
    "detecotr = HandDetector(detectionCon=0.8, maxHands=1)"
   ]
  },
  {
   "cell_type": "code",
   "execution_count": null,
   "id": "9a0b8658",
   "metadata": {},
   "outputs": [],
   "source": [
    "class SnakeGameClass:\n",
    "    def __init__(self, pathFood):\n",
    "        self.points = [] #list of all points on the snake\n",
    "        self.lengths = [] #ditances between all points of the snake\n",
    "        self.score = 0\n",
    "        self.GameOver = False\n",
    "        self.currentLength = 0\n",
    "        self.allowedLength = allowedLenght\n",
    "        self.previousHead = 0, 0\n",
    "        self.imgFood = cv2.imread(pathFood, cv2.IMREAD_UNCHANGED)\n",
    "        self.hFood, self.wFood , _ = self.imgFood.shape\n",
    "        self.foodPoint = 0, 0\n",
    "        self.randomfoodLocation()\n",
    "    \n",
    "    def randomfoodLocation(self):\n",
    "        self.foodPoint = np.random.randint(100, 1000), np.random.rai"
   ]
  }
 ],
 "metadata": {
  "kernelspec": {
   "display_name": "Python 3 (ipykernel)",
   "language": "python",
   "name": "python3"
  },
  "language_info": {
   "codemirror_mode": {
    "name": "ipython",
    "version": 3
   },
   "file_extension": ".py",
   "mimetype": "text/x-python",
   "name": "python",
   "nbconvert_exporter": "python",
   "pygments_lexer": "ipython3",
   "version": "3.9.0"
  }
 },
 "nbformat": 4,
 "nbformat_minor": 5
}
