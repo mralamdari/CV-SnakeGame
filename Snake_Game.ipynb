{
 "cells": [
  {
   "cell_type": "code",
   "execution_count": 12,
   "id": "7854df55",
   "metadata": {},
   "outputs": [],
   "source": [
    "import cv2\n",
    "import cvzone\n",
    "import numpy as np\n",
    "from cvzone.HandTrackingModule import HandDetector"
   ]
  },
  {
   "cell_type": "code",
   "execution_count": 6,
   "id": "51ba7ffc",
   "metadata": {},
   "outputs": [],
   "source": [
    "cap = cv2.VideoCapture(0)\n",
    "allowedLenght = 150\n",
    "allowedLenght_rate= 50\n",
    "cap.set(3, 1280)\n",
    "cap.set(4, 720)\n",
    "error_rate = 1"
   ]
  },
  {
   "cell_type": "code",
   "execution_count": 7,
   "id": "71af7a93",
   "metadata": {},
   "outputs": [],
   "source": [
    "detecotr = HandDetector(detectionCon=0.8, maxHands=1)"
   ]
  },
  {
   "cell_type": "code",
   "execution_count": 8,
   "id": "4795c2a6",
   "metadata": {},
   "outputs": [
    {
     "ename": "SyntaxError",
     "evalue": "invalid syntax (1032794968.py, line 27)",
     "output_type": "error",
     "traceback": [
      "\u001b[1;36m  Input \u001b[1;32mIn [8]\u001b[1;36m\u001b[0m\n\u001b[1;33m    distance =\u001b[0m\n\u001b[1;37m               ^\u001b[0m\n\u001b[1;31mSyntaxError\u001b[0m\u001b[1;31m:\u001b[0m invalid syntax\n"
     ]
    }
   ],
   "source": [
    "class SnakeGameClass:\n",
    "    def __init__(self, pathFood):\n",
    "        self.points = [] #list of all points on the snake\n",
    "        self.lengths = [] #ditances between all points of the snake\n",
    "        self.score = 0\n",
    "        self.GameOver = False\n",
    "        self.currentLength = 0\n",
    "        self.allowedLength = allowedLenght\n",
    "        self.previousHead = 0, 0\n",
    "        self.imgFood = cv2.imread(pathFood, cv2.IMREAD_UNCHANGED)\n",
    "        self.hFood, self.wFood , _ = self.imgFood.shape\n",
    "        self.foodPoint = 0, 0\n",
    "        self.randomfoodLocation()\n",
    "    \n",
    "    def randomfoodLocation(self):\n",
    "        self.foodPoint = np.random.randint(100, 1000), np.random.randint(100, 600)\n",
    "    \n",
    "    def update(self, imgMain, currentHead):\n",
    "        if self.GameOver:\n",
    "            cvzone.putTextRect(imgMain, 'Game Over', [300, 400], scale=7, thickness=5, offset=20)\n",
    "            cvzone.putTextRect(imgMain, f'Score: {self.score}', [300, 500], scale=7, thickness=5, offset=20)            \n",
    "        else:\n",
    "            px, yp = self.previousHead\n",
    "            cx, cy = currentHead\n",
    "            \n",
    "            self.points.append([cx, cy])\n",
    "            distance = ((cx - px)**2 + (cy - py)**2)**0.5\n",
    "            self.lengths.append(distance)\n",
    "            self."
   ]
  },
  {
   "cell_type": "code",
   "execution_count": 11,
   "id": "83c31143",
   "metadata": {},
   "outputs": [
    {
     "data": {
      "text/plain": [
       "33.37663853655727"
      ]
     },
     "execution_count": 11,
     "metadata": {},
     "output_type": "execute_result"
    }
   ],
   "source": []
  },
  {
   "cell_type": "code",
   "execution_count": null,
   "id": "28e421e1",
   "metadata": {},
   "outputs": [],
   "source": []
  }
 ],
 "metadata": {
  "kernelspec": {
   "display_name": "Python 3 (ipykernel)",
   "language": "python",
   "name": "python3"
  },
  "language_info": {
   "codemirror_mode": {
    "name": "ipython",
    "version": 3
   },
   "file_extension": ".py",
   "mimetype": "text/x-python",
   "name": "python",
   "nbconvert_exporter": "python",
   "pygments_lexer": "ipython3",
   "version": "3.9.0"
  }
 },
 "nbformat": 4,
 "nbformat_minor": 5
}
